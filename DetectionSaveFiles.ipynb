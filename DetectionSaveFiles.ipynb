{
 "cells": [
  {
   "cell_type": "code",
   "execution_count": 3,
   "metadata": {},
   "outputs": [],
   "source": [
    "import matplotlib.pyplot as plt\n",
    "import os\n",
    "from six.moves import cPickle as pickle\n",
    "from scipy import signal\n",
    "import numpy as np\n",
    "import cv2\n",
    "def unpickle(file):\n",
    "    import pickle\n",
    "    with open(file, 'rb') as fo:\n",
    "        dict = pickle.load(fo, encoding='bytes')\n",
    "    return dict"
   ]
  },
  {
   "cell_type": "code",
   "execution_count": 4,
   "metadata": {},
   "outputs": [],
   "source": [
    "img_rows, img_cols = 32, 32\n",
    "\n",
    "# Load 10,000 images from data_batch_1\n",
    "data_dict = unpickle('./cifar_dataset/cifar-10-batches-py/data_batch_1')\n",
    "data = data_dict[b'data']\n",
    "data_dict = unpickle('./cifar_dataset/cifar-10-batches-py/data_batch_2')\n",
    "data = np.concatenate((data, data_dict[b'data']))\n",
    "data = data.reshape((-1,3,32,32)).transpose(0,2,3,1)\n",
    "label = np.ones((20000,1)) * 2\n",
    "\n",
    "#Convert image into grayscale\n",
    "dummy = list()\n",
    "for d in data:\n",
    "    dummy.append(cv2.cvtColor(d, cv2.COLOR_BGR2GRAY)) \n",
    "    \n",
    "data = np.array(dummy)\n",
    "\n",
    "#cv2.imshow(\"temp\",data[0])\n",
    "#cv2.waitKey(0)\n",
    "#label.shape\n"
   ]
  },
  {
   "cell_type": "code",
   "execution_count": 5,
   "metadata": {},
   "outputs": [
    {
     "name": "stdout",
     "output_type": "stream",
     "text": [
      "Training set (20000, 32, 32)\n",
      "Training label (20000, 1)\n"
     ]
    }
   ],
   "source": [
    "# Get data from Char74k dataset\n",
    "pickle_file = 'complete_dataset.pickle'\n",
    "\n",
    "with open(pickle_file, 'rb') as f:\n",
    "    save = pickle.load(f)\n",
    "    text_dataset = save['train_dataset'][:20000]\n",
    "    del save\n",
    "    print('Training set',text_dataset.shape)\n",
    "    textLabel = np.ones((20000,1))\n",
    "    print('Training label',textLabel.shape)\n",
    "    \n",
    "\n"
   ]
  },
  {
   "cell_type": "code",
   "execution_count": 6,
   "metadata": {},
   "outputs": [],
   "source": [
    "# merge both datasets (text and non text)\n",
    "dataset = np.concatenate((data,text_dataset))\n",
    "label = np.concatenate((label,textLabel))"
   ]
  },
  {
   "cell_type": "code",
   "execution_count": 14,
   "metadata": {},
   "outputs": [
    {
     "name": "stdout",
     "output_type": "stream",
     "text": [
      "(40000, 32, 32) (40000, 1)\n"
     ]
    },
    {
     "data": {
      "image/png": "[encoded data removed]",
      "text/plain": [
       "<Figure size 432x288 with 1 Axes>"
      ]
     },
     "metadata": {},
     "output_type": "display_data"
    },
    {
     "name": "stdout",
     "output_type": "stream",
     "text": [
      "[1.]\n"
     ]
    }
   ],
   "source": [
    "#Shuffle\n",
    "def randomize(dataset, labels):\n",
    "    permutation = np.random.permutation(labels.shape[0])\n",
    "    shuffled_dataset = dataset[permutation, :, :]\n",
    "    shuffled_labels = labels[permutation]\n",
    "    return shuffled_dataset, shuffled_labels\n",
    "\n",
    "dataset,label = randomize(dataset,label)\n",
    "print(dataset.shape, label.shape)\n",
    "plt.imshow(signal.medfilt(dataset[0]), interpolation='nearest')\n",
    "plt.show() \n",
    "print(label[0])"
   ]
  },
  {
   "cell_type": "code",
   "execution_count": 15,
   "metadata": {},
   "outputs": [],
   "source": [
    "#dataset = np.multiply(dataset, 1.0/255.0) \n",
    "\n",
    "pickle_file = os.path.join('.','dataset_text_detection.pickle')\n",
    "#pickle_file = os.path.join(data_root,'complete_dataset1.pickle')\n",
    "try:\n",
    "    f = open(pickle_file, 'wb')\n",
    "    save = {\n",
    "        'dataset' : dataset,\n",
    "        'label' : label\n",
    "        }\n",
    "    pickle.dump(save, f, pickle.HIGHEST_PROTOCOL)\n",
    "    f.close()\n",
    "except Exception as e :\n",
    "    print('Unable to save data to', pickle_file, ':', e)\n",
    "    raise"
   ]
  },
  {
   "cell_type": "code",
   "execution_count": 17,
   "metadata": {},
   "outputs": [
    {
     "name": "stdout",
     "output_type": "stream",
     "text": [
      "Compresed pickle size:  164160260\n"
     ]
    }
   ],
   "source": [
    "statinfo = os.stat(pickle_file)\n",
    "print('Compresed pickle size: ', statinfo.st_size)"
   ]
  },
  {
   "cell_type": "code",
   "execution_count": null,
   "metadata": {},
   "outputs": [],
   "source": []
  }
 ],
 "metadata": {
  "kernelspec": {
   "display_name": "Python 3",
   "language": "python",
   "name": "python3"
  },
  "language_info": {
   "codemirror_mode": {
    "name": "ipython",
    "version": 3
   },
   "file_extension": ".py",
   "mimetype": "text/x-python",
   "name": "python",
   "nbconvert_exporter": "python",
   "pygments_lexer": "ipython3",
   "version": "3.6.3"
  }
 },
 "nbformat": 4,
 "nbformat_minor": 2
}
