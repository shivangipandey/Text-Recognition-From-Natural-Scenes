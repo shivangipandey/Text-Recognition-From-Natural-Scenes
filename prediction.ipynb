{
 "cells": [
  {
   "cell_type": "code",
   "execution_count": 1,
   "metadata": {},
   "outputs": [
    {
     "name": "stderr",
     "output_type": "stream",
     "text": [
      "c:\\users\\shivangi pandey\\appdata\\local\\programs\\python\\python36\\lib\\site-packages\\h5py\\__init__.py:36: FutureWarning: Conversion of the second argument of issubdtype from `float` to `np.floating` is deprecated. In future, it will be treated as `np.float64 == np.dtype(float).type`.\n",
      "  from ._conv import register_converters as _register_converters\n"
     ]
    },
    {
     "name": "stdout",
     "output_type": "stream",
     "text": [
      "INFO:tensorflow:Restoring parameters from ./my_text_recognizer_model\n"
     ]
    }
   ],
   "source": [
    "import tensorflow as tf\n",
    "import numpy as np\n",
    "import os,glob,cv2\n",
    "import sys,argparse\n",
    "\n",
    "def getClassValue(result):\n",
    "    if result >= 0 and result <= 9:\n",
    "        return str(result)\n",
    "    elif result >= 10 and result <= 35:\n",
    "        return chr(65+result-10)\n",
    "    else :\n",
    "        return chr(97+result-36)\n",
    "\n",
    "# First, pass the path of the image \n",
    "filename = 'C:/Users/shivangi pandey/Desktop/MinorProject/resized_dataset/Sample002/img002-00041 (2).png'\n",
    "files = os.listdir('C:/Users/shivangi pandey/Desktop/MinorProject/testImg')\n",
    "image_size=32\n",
    "num_channels=1\n",
    "images = []\n",
    "# Reading the image using OpenCV\n",
    "\n",
    "for file in files:\n",
    "    image = cv2.imread('C:/Users/shivangi pandey/Desktop/MinorProject/testImg/'+file)\n",
    "    image = cv2.cvtColor(image, cv2.COLOR_BGR2GRAY)\n",
    "#print(image.shape)\n",
    "# Resizing the image to our desired size and preprocessing will be done exactly as done during training\n",
    "#image = cv2.resize(image, (image_size, image_size),0,0, cv2.INTER_LINEAR)\n",
    "    images.append(image)\n",
    "    \n",
    "images = np.array(images, dtype=np.uint8)\n",
    "images = images.astype('float32')\n",
    "images = np.multiply(images, 1.0/255.0) \n",
    "#The input to the network is of shape [None image_size image_size num_channels]. Hence we reshape.\n",
    "x_batch = images.reshape(images.shape[0], image_size,image_size,num_channels)\n",
    "\n",
    "## Let us restore the saved model \n",
    "sess = tf.Session()\n",
    "# Step-1: Recreate the network graph. At this step only graph is created.\n",
    "saver = tf.train.import_meta_graph('my_text_recognizer_model.meta')\n",
    "# Step-2: Now let's load the weights saved using the restore method.\n",
    "saver.restore(sess, tf.train.latest_checkpoint('./'))\n",
    "\n",
    "# Accessing the default graph which we have restored\n",
    "graph = tf.get_default_graph()\n",
    "\n",
    "# Now, let's get hold of the op that we can be processed to get the output.\n",
    "# In the original network y_pred is the tensor that is the prediction of the network\n",
    "y_pred = graph.get_tensor_by_name(\"train_prediction:0\")\n",
    "\n",
    "## Let's feed the images to the input placeholders\n",
    "x= graph.get_tensor_by_name(\"tf_train_dataset:0\") \n",
    "y_true = graph.get_tensor_by_name(\"tf_train_labels:0\") \n",
    "y_test_images = np.zeros((1, 62)) \n",
    "\n",
    "\n",
    "### Creating the feed_dict that is required to be fed to calculate y_pred \n",
    "feed_dict_testing = {x: x_batch, y_true: y_test_images}\n",
    "result=sess.run(y_pred, feed_dict=feed_dict_testing)\n",
    "# result is of this format [probabiliy_of_rose probability_of_sunflower]\n",
    "#print(result)\n",
    "#print(result.max())\n",
    "#print(result.argmax())\n",
    "#for r in result:\n",
    "#   print(getClassValue(result.argmax()))\n"
   ]
  },
  {
   "cell_type": "code",
   "execution_count": null,
   "metadata": {},
   "outputs": [],
   "source": [
    "\n",
    "\n",
    "i = 0\n",
    "for r in result:\n",
    "    char = getClassValue(r.argmax())\n",
    "    cv2.namedWindow(char,cv2.WINDOW_NORMAL)\n",
    "    cv2.resizeWindow(char, 200,150)\n",
    "    cv2.imshow(char,images[i])\n",
    "    cv2.waitKey(0)\n",
    "    i += 1\n",
    "    "
   ]
  },
  {
   "cell_type": "code",
   "execution_count": null,
   "metadata": {},
   "outputs": [],
   "source": []
  }
 ],
 "metadata": {
  "kernelspec": {
   "display_name": "Python 3",
   "language": "python",
   "name": "python3"
  },
  "language_info": {
   "codemirror_mode": {
    "name": "ipython",
    "version": 3
   },
   "file_extension": ".py",
   "mimetype": "text/x-python",
   "name": "python",
   "nbconvert_exporter": "python",
   "pygments_lexer": "ipython3",
   "version": "3.6.3"
  }
 },
 "nbformat": 4,
 "nbformat_minor": 2
}
